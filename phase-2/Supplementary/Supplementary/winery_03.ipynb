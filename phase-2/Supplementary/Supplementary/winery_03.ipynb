{
 "cells": [
  {
   "cell_type": "code",
   "execution_count": 69,
   "id": "980bfc8b-b625-4d41-ba26-f77bdc069157",
   "metadata": {},
   "outputs": [],
   "source": [
    "import pandas as pd\n",
    "import numpy as np\n",
    "import re\n",
    "from unidecode import unidecode"
   ]
  },
  {
   "cell_type": "code",
   "execution_count": 81,
   "id": "df412e47-59c3-45f3-b58d-ec8297d3a718",
   "metadata": {},
   "outputs": [],
   "source": [
    "# read the csv file into a dataframe\n",
    "winery = pd.read_csv('C:\\cs_513_datasets\\Winery-Kaggle\\winemag-data-130k-v2.csv',index_col=0)"
   ]
  },
  {
   "cell_type": "code",
   "execution_count": 30,
   "id": "00572f16-0433-4898-aab8-0854d2b159c8",
   "metadata": {},
   "outputs": [
    {
     "name": "stdout",
     "output_type": "stream",
     "text": [
      "<class 'pandas.core.frame.DataFrame'>\n",
      "Index: 129971 entries, 0 to 129970\n",
      "Data columns (total 13 columns):\n",
      " #   Column                 Non-Null Count   Dtype  \n",
      "---  ------                 --------------   -----  \n",
      " 0   country                129908 non-null  object \n",
      " 1   description            129971 non-null  object \n",
      " 2   designation            92506 non-null   object \n",
      " 3   points                 129971 non-null  int64  \n",
      " 4   price                  120975 non-null  float64\n",
      " 5   province               129908 non-null  object \n",
      " 6   region_1               108724 non-null  object \n",
      " 7   region_2               50511 non-null   object \n",
      " 8   taster_name            103727 non-null  object \n",
      " 9   taster_twitter_handle  98758 non-null   object \n",
      " 10  title                  129971 non-null  object \n",
      " 11  variety                129970 non-null  object \n",
      " 12  winery                 129971 non-null  object \n",
      "dtypes: float64(1), int64(1), object(11)\n",
      "memory usage: 17.9+ MB\n"
     ]
    }
   ],
   "source": [
    "winery.info()"
   ]
  },
  {
   "cell_type": "code",
   "execution_count": 31,
   "id": "548a056d-9ee9-4f28-a42f-578d6a2d0ead",
   "metadata": {},
   "outputs": [
    {
     "data": {
      "text/html": [
       "<div>\n",
       "<style scoped>\n",
       "    .dataframe tbody tr th:only-of-type {\n",
       "        vertical-align: middle;\n",
       "    }\n",
       "\n",
       "    .dataframe tbody tr th {\n",
       "        vertical-align: top;\n",
       "    }\n",
       "\n",
       "    .dataframe thead th {\n",
       "        text-align: right;\n",
       "    }\n",
       "</style>\n",
       "<table border=\"1\" class=\"dataframe\">\n",
       "  <thead>\n",
       "    <tr style=\"text-align: right;\">\n",
       "      <th></th>\n",
       "      <th>country</th>\n",
       "      <th>description</th>\n",
       "      <th>designation</th>\n",
       "      <th>points</th>\n",
       "      <th>price</th>\n",
       "      <th>province</th>\n",
       "      <th>region_1</th>\n",
       "      <th>region_2</th>\n",
       "      <th>taster_name</th>\n",
       "      <th>taster_twitter_handle</th>\n",
       "      <th>title</th>\n",
       "      <th>variety</th>\n",
       "      <th>winery</th>\n",
       "    </tr>\n",
       "  </thead>\n",
       "  <tbody>\n",
       "    <tr>\n",
       "      <th>0</th>\n",
       "      <td>Italy</td>\n",
       "      <td>Aromas include tropical fruit, broom, brimston...</td>\n",
       "      <td>Vulkà Bianco</td>\n",
       "      <td>87</td>\n",
       "      <td>NaN</td>\n",
       "      <td>Sicily &amp; Sardinia</td>\n",
       "      <td>Etna</td>\n",
       "      <td>NaN</td>\n",
       "      <td>Kerin O’Keefe</td>\n",
       "      <td>@kerinokeefe</td>\n",
       "      <td>Nicosia 2013 Vulkà Bianco  (Etna)</td>\n",
       "      <td>White Blend</td>\n",
       "      <td>Nicosia</td>\n",
       "    </tr>\n",
       "    <tr>\n",
       "      <th>1</th>\n",
       "      <td>Portugal</td>\n",
       "      <td>This is ripe and fruity, a wine that is smooth...</td>\n",
       "      <td>Avidagos</td>\n",
       "      <td>87</td>\n",
       "      <td>15.0</td>\n",
       "      <td>Douro</td>\n",
       "      <td>NaN</td>\n",
       "      <td>NaN</td>\n",
       "      <td>Roger Voss</td>\n",
       "      <td>@vossroger</td>\n",
       "      <td>Quinta dos Avidagos 2011 Avidagos Red (Douro)</td>\n",
       "      <td>Portuguese Red</td>\n",
       "      <td>Quinta dos Avidagos</td>\n",
       "    </tr>\n",
       "    <tr>\n",
       "      <th>2</th>\n",
       "      <td>US</td>\n",
       "      <td>Tart and snappy, the flavors of lime flesh and...</td>\n",
       "      <td>NaN</td>\n",
       "      <td>87</td>\n",
       "      <td>14.0</td>\n",
       "      <td>Oregon</td>\n",
       "      <td>Willamette Valley</td>\n",
       "      <td>Willamette Valley</td>\n",
       "      <td>Paul Gregutt</td>\n",
       "      <td>@paulgwine</td>\n",
       "      <td>Rainstorm 2013 Pinot Gris (Willamette Valley)</td>\n",
       "      <td>Pinot Gris</td>\n",
       "      <td>Rainstorm</td>\n",
       "    </tr>\n",
       "    <tr>\n",
       "      <th>3</th>\n",
       "      <td>US</td>\n",
       "      <td>Pineapple rind, lemon pith and orange blossom ...</td>\n",
       "      <td>Reserve Late Harvest</td>\n",
       "      <td>87</td>\n",
       "      <td>13.0</td>\n",
       "      <td>Michigan</td>\n",
       "      <td>Lake Michigan Shore</td>\n",
       "      <td>NaN</td>\n",
       "      <td>Alexander Peartree</td>\n",
       "      <td>NaN</td>\n",
       "      <td>St. Julian 2013 Reserve Late Harvest Riesling ...</td>\n",
       "      <td>Riesling</td>\n",
       "      <td>St. Julian</td>\n",
       "    </tr>\n",
       "    <tr>\n",
       "      <th>4</th>\n",
       "      <td>US</td>\n",
       "      <td>Much like the regular bottling from 2012, this...</td>\n",
       "      <td>Vintner's Reserve Wild Child Block</td>\n",
       "      <td>87</td>\n",
       "      <td>65.0</td>\n",
       "      <td>Oregon</td>\n",
       "      <td>Willamette Valley</td>\n",
       "      <td>Willamette Valley</td>\n",
       "      <td>Paul Gregutt</td>\n",
       "      <td>@paulgwine</td>\n",
       "      <td>Sweet Cheeks 2012 Vintner's Reserve Wild Child...</td>\n",
       "      <td>Pinot Noir</td>\n",
       "      <td>Sweet Cheeks</td>\n",
       "    </tr>\n",
       "  </tbody>\n",
       "</table>\n",
       "</div>"
      ],
      "text/plain": [
       "    country                                        description  \\\n",
       "0     Italy  Aromas include tropical fruit, broom, brimston...   \n",
       "1  Portugal  This is ripe and fruity, a wine that is smooth...   \n",
       "2        US  Tart and snappy, the flavors of lime flesh and...   \n",
       "3        US  Pineapple rind, lemon pith and orange blossom ...   \n",
       "4        US  Much like the regular bottling from 2012, this...   \n",
       "\n",
       "                          designation  points  price           province  \\\n",
       "0                        Vulkà Bianco      87    NaN  Sicily & Sardinia   \n",
       "1                            Avidagos      87   15.0              Douro   \n",
       "2                                 NaN      87   14.0             Oregon   \n",
       "3                Reserve Late Harvest      87   13.0           Michigan   \n",
       "4  Vintner's Reserve Wild Child Block      87   65.0             Oregon   \n",
       "\n",
       "              region_1           region_2         taster_name  \\\n",
       "0                 Etna                NaN       Kerin O’Keefe   \n",
       "1                  NaN                NaN          Roger Voss   \n",
       "2    Willamette Valley  Willamette Valley        Paul Gregutt   \n",
       "3  Lake Michigan Shore                NaN  Alexander Peartree   \n",
       "4    Willamette Valley  Willamette Valley        Paul Gregutt   \n",
       "\n",
       "  taster_twitter_handle                                              title  \\\n",
       "0          @kerinokeefe                  Nicosia 2013 Vulkà Bianco  (Etna)   \n",
       "1            @vossroger      Quinta dos Avidagos 2011 Avidagos Red (Douro)   \n",
       "2           @paulgwine       Rainstorm 2013 Pinot Gris (Willamette Valley)   \n",
       "3                   NaN  St. Julian 2013 Reserve Late Harvest Riesling ...   \n",
       "4           @paulgwine   Sweet Cheeks 2012 Vintner's Reserve Wild Child...   \n",
       "\n",
       "          variety               winery  \n",
       "0     White Blend              Nicosia  \n",
       "1  Portuguese Red  Quinta dos Avidagos  \n",
       "2      Pinot Gris            Rainstorm  \n",
       "3        Riesling           St. Julian  \n",
       "4      Pinot Noir         Sweet Cheeks  "
      ]
     },
     "execution_count": 31,
     "metadata": {},
     "output_type": "execute_result"
    }
   ],
   "source": [
    "winery.head()"
   ]
  },
  {
   "cell_type": "code",
   "execution_count": 71,
   "id": "11b09fcd-a8b3-42e6-94f7-8a9ae64775de",
   "metadata": {},
   "outputs": [],
   "source": [
    "# dictionary with the country values based on the winery \n",
    "repl_values = {\n",
    "    \"Gotsa Family Wines\":\"Georgia\",\n",
    "    \"Barton & Guestier\":\"France\",\n",
    "    \"Kakhetia Traditional Winemaking\":\"Georgia\",\n",
    "    \"Tsililis\":\"Greece\",\n",
    "    \"Ross-idi\":\"Bulgaria\",\n",
    "    \"Orbelus\":\"Bulgaria\",\n",
    "    \"St. Donat\":\"Croatia\",\n",
    "    \"Familia Deicas\":\"Uruguay\",\n",
    "    \"Bartho Eksteen\":\"South Africa\",\n",
    "    \"Stone Castle\":\"Macedonia (North Macedonia)\",\n",
    "    \"Teliani Valley\":\"Georgia\",\n",
    "    \"Undurraga\":\"Chile\",\n",
    "    \"Mt. Beautiful\":\"New Zealand\",\n",
    "    \"Neumeister\":\"Austria\",\n",
    "    \"Bachelder\":\"Canada\",\n",
    "    \"Chilcas\":\"Chile\",\n",
    "    \"Santa Ema\":\"Chile\",\n",
    "    \"Psagot\":\"Israel\",\n",
    "    \"Newton Johnson\":\"South Africa\",\n",
    "    \"Ktima Voyatzi\":\"Greece\",\n",
    "    \"Lismore\":\"South Africa\",\n",
    "    \"Logodaj\":\"Croatia\",\n",
    "    \"Somlói Vándor\":\"Hungary\",\n",
    "    \"Les Frères Dutruy\":\"Switzerland\",\n",
    "    \"El Capricho\":\"Spain\",\n",
    "    \"Amiran Vepkhvadze\":\"Georgia\",\n",
    "    'BÃ¼yÃ¼lÃ¼baÄŸ':\"Turkey\",\n",
    "    'Büyülübağ':'Turkey'\n",
    "             }\n",
    "\n",
    "#replace null country values based on winery's name\n",
    "for index, row in winery.iterrows():\n",
    "    if pd.isna(row[\"country\"]):\n",
    "       winery.at[index,\"country\"] = repl_values[row[\"winery\"]]\n"
   ]
  },
  {
   "cell_type": "code",
   "execution_count": 72,
   "id": "9c4bc375-99a9-4350-bb93-fefa12a5a784",
   "metadata": {},
   "outputs": [
    {
     "data": {
      "text/plain": [
       "0"
      ]
     },
     "execution_count": 72,
     "metadata": {},
     "output_type": "execute_result"
    }
   ],
   "source": [
    "winery[\"country\"].isnull().sum()"
   ]
  },
  {
   "cell_type": "code",
   "execution_count": 84,
   "id": "f7a11b07-382a-4b88-aff9-4955c3f7d537",
   "metadata": {},
   "outputs": [],
   "source": [
    "# convert accented chars to regular english characters\n",
    "for col in ['description','designation','province','title','variety','winery', 'region_1']:\n",
    "    winery[col] = winery[col].fillna(\" \")\n",
    "    winery[col] = winery[col].apply(unidecode)"
   ]
  },
  {
   "cell_type": "code",
   "execution_count": 85,
   "id": "c802aa83-3485-41be-8e6a-77a8eaf62425",
   "metadata": {},
   "outputs": [],
   "source": [
    "#supress repetitive charcaters with one occurence of the character in the text columns\n",
    "\n",
    "for index,row in winery.iterrows():\n",
    "    #supress repetitive charcaters with one occurence of the character\n",
    "    for col in ['description','designation','province','title','variety','winery', 'region_1']:\n",
    "        txt = row[col]\n",
    "        winery.at[index,col] = re.sub(r\"(\\W)\\1+\", r\"\\1\",txt)"
   ]
  },
  {
   "cell_type": "code",
   "execution_count": 9,
   "id": "f921e892-fa21-4a8d-8d18-04b3afb88385",
   "metadata": {},
   "outputs": [
    {
     "data": {
      "text/html": [
       "<div>\n",
       "<style scoped>\n",
       "    .dataframe tbody tr th:only-of-type {\n",
       "        vertical-align: middle;\n",
       "    }\n",
       "\n",
       "    .dataframe tbody tr th {\n",
       "        vertical-align: top;\n",
       "    }\n",
       "\n",
       "    .dataframe thead th {\n",
       "        text-align: right;\n",
       "    }\n",
       "</style>\n",
       "<table border=\"1\" class=\"dataframe\">\n",
       "  <thead>\n",
       "    <tr style=\"text-align: right;\">\n",
       "      <th></th>\n",
       "      <th>country</th>\n",
       "      <th>description</th>\n",
       "      <th>designation</th>\n",
       "      <th>points</th>\n",
       "      <th>price</th>\n",
       "      <th>province</th>\n",
       "      <th>region_1</th>\n",
       "      <th>region_2</th>\n",
       "      <th>taster_name</th>\n",
       "      <th>taster_twitter_handle</th>\n",
       "      <th>title</th>\n",
       "      <th>variety</th>\n",
       "      <th>winery</th>\n",
       "    </tr>\n",
       "  </thead>\n",
       "  <tbody>\n",
       "    <tr>\n",
       "      <th>0</th>\n",
       "      <td>Italy</td>\n",
       "      <td>Aromas include tropical fruit, broom, brimston...</td>\n",
       "      <td>Vulka Bianco</td>\n",
       "      <td>87</td>\n",
       "      <td>NaN</td>\n",
       "      <td>Sicily &amp; Sardinia</td>\n",
       "      <td>Etna</td>\n",
       "      <td>NaN</td>\n",
       "      <td>Kerin O’Keefe</td>\n",
       "      <td>@kerinokeefe</td>\n",
       "      <td>Nicosia 2013 Vulka Bianco  (Etna)</td>\n",
       "      <td>White Blend</td>\n",
       "      <td>Nicosia</td>\n",
       "    </tr>\n",
       "    <tr>\n",
       "      <th>1</th>\n",
       "      <td>Portugal</td>\n",
       "      <td>This is ripe and fruity, a wine that is smooth...</td>\n",
       "      <td>Avidagos</td>\n",
       "      <td>87</td>\n",
       "      <td>15.0</td>\n",
       "      <td>Douro</td>\n",
       "      <td></td>\n",
       "      <td>NaN</td>\n",
       "      <td>Roger Voss</td>\n",
       "      <td>@vossroger</td>\n",
       "      <td>Quinta dos Avidagos 2011 Avidagos Red (Douro)</td>\n",
       "      <td>Portuguese Red</td>\n",
       "      <td>Quinta dos Avidagos</td>\n",
       "    </tr>\n",
       "    <tr>\n",
       "      <th>2</th>\n",
       "      <td>US</td>\n",
       "      <td>Tart and snappy, the flavors of lime flesh and...</td>\n",
       "      <td></td>\n",
       "      <td>87</td>\n",
       "      <td>14.0</td>\n",
       "      <td>Oregon</td>\n",
       "      <td>Willamette Valley</td>\n",
       "      <td>Willamette Valley</td>\n",
       "      <td>Paul Gregutt</td>\n",
       "      <td>@paulgwine</td>\n",
       "      <td>Rainstorm 2013 Pinot Gris (Willamette Valley)</td>\n",
       "      <td>Pinot Gris</td>\n",
       "      <td>Rainstorm</td>\n",
       "    </tr>\n",
       "    <tr>\n",
       "      <th>3</th>\n",
       "      <td>US</td>\n",
       "      <td>Pineapple rind, lemon pith and orange blossom ...</td>\n",
       "      <td>Reserve Late Harvest</td>\n",
       "      <td>87</td>\n",
       "      <td>13.0</td>\n",
       "      <td>Michigan</td>\n",
       "      <td>Lake Michigan Shore</td>\n",
       "      <td>NaN</td>\n",
       "      <td>Alexander Peartree</td>\n",
       "      <td>NaN</td>\n",
       "      <td>St. Julian 2013 Reserve Late Harvest Riesling ...</td>\n",
       "      <td>Riesling</td>\n",
       "      <td>St. Julian</td>\n",
       "    </tr>\n",
       "    <tr>\n",
       "      <th>4</th>\n",
       "      <td>US</td>\n",
       "      <td>Much like the regular bottling from 2012, this...</td>\n",
       "      <td>Vintner's Reserve Wild Child Block</td>\n",
       "      <td>87</td>\n",
       "      <td>65.0</td>\n",
       "      <td>Oregon</td>\n",
       "      <td>Willamette Valley</td>\n",
       "      <td>Willamette Valley</td>\n",
       "      <td>Paul Gregutt</td>\n",
       "      <td>@paulgwine</td>\n",
       "      <td>Sweet Cheeks 2012 Vintner's Reserve Wild Child...</td>\n",
       "      <td>Pinot Noir</td>\n",
       "      <td>Sweet Cheeks</td>\n",
       "    </tr>\n",
       "  </tbody>\n",
       "</table>\n",
       "</div>"
      ],
      "text/plain": [
       "    country                                        description  \\\n",
       "0     Italy  Aromas include tropical fruit, broom, brimston...   \n",
       "1  Portugal  This is ripe and fruity, a wine that is smooth...   \n",
       "2        US  Tart and snappy, the flavors of lime flesh and...   \n",
       "3        US  Pineapple rind, lemon pith and orange blossom ...   \n",
       "4        US  Much like the regular bottling from 2012, this...   \n",
       "\n",
       "                          designation  points  price           province  \\\n",
       "0                        Vulka Bianco      87    NaN  Sicily & Sardinia   \n",
       "1                            Avidagos      87   15.0              Douro   \n",
       "2                                          87   14.0             Oregon   \n",
       "3                Reserve Late Harvest      87   13.0           Michigan   \n",
       "4  Vintner's Reserve Wild Child Block      87   65.0             Oregon   \n",
       "\n",
       "              region_1           region_2         taster_name  \\\n",
       "0                 Etna                NaN       Kerin O’Keefe   \n",
       "1                                     NaN          Roger Voss   \n",
       "2    Willamette Valley  Willamette Valley        Paul Gregutt   \n",
       "3  Lake Michigan Shore                NaN  Alexander Peartree   \n",
       "4    Willamette Valley  Willamette Valley        Paul Gregutt   \n",
       "\n",
       "  taster_twitter_handle                                              title  \\\n",
       "0          @kerinokeefe                  Nicosia 2013 Vulka Bianco  (Etna)   \n",
       "1            @vossroger      Quinta dos Avidagos 2011 Avidagos Red (Douro)   \n",
       "2           @paulgwine       Rainstorm 2013 Pinot Gris (Willamette Valley)   \n",
       "3                   NaN  St. Julian 2013 Reserve Late Harvest Riesling ...   \n",
       "4           @paulgwine   Sweet Cheeks 2012 Vintner's Reserve Wild Child...   \n",
       "\n",
       "          variety               winery  \n",
       "0     White Blend              Nicosia  \n",
       "1  Portuguese Red  Quinta dos Avidagos  \n",
       "2      Pinot Gris            Rainstorm  \n",
       "3        Riesling           St. Julian  \n",
       "4      Pinot Noir         Sweet Cheeks  "
      ]
     },
     "execution_count": 9,
     "metadata": {},
     "output_type": "execute_result"
    }
   ],
   "source": [
    "winery.head()"
   ]
  },
  {
   "cell_type": "code",
   "execution_count": 35,
   "id": "40b51175-31f5-4056-a5cf-994cb627f260",
   "metadata": {},
   "outputs": [
    {
     "name": "stdout",
     "output_type": "stream",
     "text": [
      "<class 'pandas.core.frame.DataFrame'>\n",
      "Index: 129971 entries, 0 to 129970\n",
      "Data columns (total 13 columns):\n",
      " #   Column                 Non-Null Count   Dtype  \n",
      "---  ------                 --------------   -----  \n",
      " 0   country                129971 non-null  object \n",
      " 1   description            129971 non-null  object \n",
      " 2   designation            129971 non-null  object \n",
      " 3   points                 129971 non-null  int64  \n",
      " 4   price                  120975 non-null  float64\n",
      " 5   province               129971 non-null  object \n",
      " 6   region_1               129971 non-null  object \n",
      " 7   region_2               50511 non-null   object \n",
      " 8   taster_name            103727 non-null  object \n",
      " 9   taster_twitter_handle  98758 non-null   object \n",
      " 10  title                  129971 non-null  object \n",
      " 11  variety                129971 non-null  object \n",
      " 12  winery                 129971 non-null  object \n",
      "dtypes: float64(1), int64(1), object(11)\n",
      "memory usage: 17.9+ MB\n"
     ]
    }
   ],
   "source": [
    "winery.info()"
   ]
  },
  {
   "cell_type": "code",
   "execution_count": 75,
   "id": "7075f7bc-6eeb-41a7-b2f6-18b5c06b36fe",
   "metadata": {},
   "outputs": [],
   "source": [
    "# set the regex string for finding various patterns  with the special characters on the text columns\n",
    "pattern3 = r\"([^\\w\\s]{2,})\""
   ]
  },
  {
   "cell_type": "code",
   "execution_count": 76,
   "id": "7f944dd2-8f5f-4319-88c0-f225569e1869",
   "metadata": {},
   "outputs": [
    {
     "data": {
      "text/plain": [
       "array([[').'],\n",
       "       ['%)'],\n",
       "       ['-$'],\n",
       "       ['%),'],\n",
       "       ['),'],\n",
       "       ['(\"'],\n",
       "       [',\"'],\n",
       "       ['%.'],\n",
       "       ['\",'],\n",
       "       ['%,'],\n",
       "       ['.-'],\n",
       "       ['.\"'],\n",
       "       ['%).'],\n",
       "       ['+.'],\n",
       "       ['\")'],\n",
       "       ['.),'],\n",
       "       ['?)'],\n",
       "       ['-\"'],\n",
       "       [',.'],\n",
       "       ['.,'],\n",
       "       ['.)'],\n",
       "       ['!\"'],\n",
       "       ['.`'],\n",
       "       ['\"-'],\n",
       "       ['%-'],\n",
       "       ['-,'],\n",
       "       ['%)-'],\n",
       "       ['!)'],\n",
       "       ['\"),'],\n",
       "       [\".'\"],\n",
       "       ['.*'],\n",
       "       ['.).'],\n",
       "       ['+-'],\n",
       "       ['!-'],\n",
       "       ['?),'],\n",
       "       ['\".'],\n",
       "       ['%?'],\n",
       "       [\"')\"],\n",
       "       [');'],\n",
       "       ['($'],\n",
       "       [\"',\"],\n",
       "       ['+?'],\n",
       "       ['%!)'],\n",
       "       ['?,'],\n",
       "       ['.?'],\n",
       "       [')-'],\n",
       "       ['?\"'],\n",
       "       [';,'],\n",
       "       ['+%'],\n",
       "       [\"'.\"],\n",
       "       [\",'\"],\n",
       "       ['?).'],\n",
       "       ['!),'],\n",
       "       [\";'\"],\n",
       "       ['\").'],\n",
       "       ['?-'],\n",
       "       ['(!)'],\n",
       "       ['!).'],\n",
       "       [',),'],\n",
       "       ['?.'],\n",
       "       ['):'],\n",
       "       ['%);'],\n",
       "       ['!)-'],\n",
       "       ['\"*\"'],\n",
       "       ['&%'],\n",
       "       ['%;']], dtype=object)"
      ]
     },
     "execution_count": 76,
     "metadata": {},
     "output_type": "execute_result"
    }
   ],
   "source": [
    "special_chars_description = winery[\"description\"].str.extractall(pattern3).drop_duplicates()\n",
    "spl_pattern = special_chars_description.values\n",
    "spl_pattern"
   ]
  },
  {
   "cell_type": "code",
   "execution_count": 77,
   "id": "e26fd178-f1e1-4136-af39-079e6f071a26",
   "metadata": {},
   "outputs": [
    {
     "data": {
      "text/plain": [
       "66"
      ]
     },
     "execution_count": 77,
     "metadata": {},
     "output_type": "execute_result"
    }
   ],
   "source": [
    "len(spl_pattern)"
   ]
  },
  {
   "cell_type": "code",
   "execution_count": null,
   "id": "e1051812-3f8d-48fb-82d1-0d297ce34e55",
   "metadata": {},
   "outputs": [],
   "source": [
    "for index,row in winery.iterrows():\n",
    "    # replace the non legitimate patterns with whitespace\n",
    "    txt = row[\"title\"]\n",
    "    winery.at[index,\"title\"] = re.sub(r\"((\\[\\+\\])|(\\(\\+\\))|(\\*%#&@!)|(%@#\\$!))+\", \" \",txt)"
   ]
  },
  {
   "cell_type": "code",
   "execution_count": null,
   "id": "06deea36-9e11-4ca2-841f-30943c15d87d",
   "metadata": {},
   "outputs": [],
   "source": [
    "# this is not run but used for printing the column values that has the special pattern\n",
    "i = list(special_chars_description.index.get_level_values(None))\n",
    "j = list( dict.fromkeys(i) )\n",
    "len(j)\n",
    "\n",
    "for k in j:\n",
    "    print(winery.loc[k,\"description\"])\n",
    "    print(\"  \")"
   ]
  },
  {
   "cell_type": "code",
   "execution_count": null,
   "id": "bfec5302-0462-404d-9913-446d5a9ee2eb",
   "metadata": {},
   "outputs": [],
   "source": [
    "# designation"
   ]
  },
  {
   "cell_type": "code",
   "execution_count": 86,
   "id": "c50123ee-fc85-4ff0-83b3-ee5510086efc",
   "metadata": {},
   "outputs": [
    {
     "data": {
      "text/plain": [
       "array([['[+]'],\n",
       "       ['.-'],\n",
       "       ['%,'],\n",
       "       ['(\"'],\n",
       "       ['\")'],\n",
       "       ['*%#&@!'],\n",
       "       [\"!'\"],\n",
       "       ['(+)'],\n",
       "       ['%@#$!'],\n",
       "       ['%/']], dtype=object)"
      ]
     },
     "execution_count": 86,
     "metadata": {},
     "output_type": "execute_result"
    }
   ],
   "source": [
    "special_chars_designation = winery[\"designation\"].str.extractall(pattern3).drop_duplicates()\n",
    "special_chars_designation.values"
   ]
  },
  {
   "cell_type": "code",
   "execution_count": 88,
   "id": "5c5a7c10-91f1-4759-979e-0c2c339204af",
   "metadata": {},
   "outputs": [],
   "source": [
    "for index,row in winery.iterrows():\n",
    "    # replace the non legitimate patterns with whitespace\n",
    "    txt = row[\"designation\"]\n",
    "    winery.at[index,\"designation\"] = re.sub(r\"((\\[\\+\\])|(\\(\\+\\))|(\\*%#&@!)|(%@#\\$!))+\", \" \",txt)"
   ]
  },
  {
   "cell_type": "code",
   "execution_count": 89,
   "id": "3c909e43-29de-479e-a8c9-ba09e138c9f6",
   "metadata": {},
   "outputs": [
    {
     "data": {
      "text/plain": [
       "array([['.-'],\n",
       "       ['%,'],\n",
       "       ['(\"'],\n",
       "       ['\")'],\n",
       "       [\"!'\"],\n",
       "       ['%/']], dtype=object)"
      ]
     },
     "execution_count": 89,
     "metadata": {},
     "output_type": "execute_result"
    }
   ],
   "source": [
    "special_chars_designation = winery[\"designation\"].str.extractall(pattern3).drop_duplicates()\n",
    "special_chars_designation.values"
   ]
  },
  {
   "cell_type": "code",
   "execution_count": 90,
   "id": "40c8248a-72ca-4a93-a71b-a84e7d872c4a",
   "metadata": {},
   "outputs": [],
   "source": [
    "#province"
   ]
  },
  {
   "cell_type": "code",
   "execution_count": 91,
   "id": "6b912473-3c09-462f-925b-662431394769",
   "metadata": {},
   "outputs": [
    {
     "data": {
      "text/plain": [
       "array([], shape=(0, 1), dtype=object)"
      ]
     },
     "execution_count": 91,
     "metadata": {},
     "output_type": "execute_result"
    }
   ],
   "source": [
    "special_chars_province = winery[\"province\"].str.extractall(pattern3).drop_duplicates()\n",
    "special_chars_province.values"
   ]
  },
  {
   "cell_type": "code",
   "execution_count": null,
   "id": "9afd6f21-200c-4253-9a06-1fad58ccf283",
   "metadata": {},
   "outputs": [],
   "source": []
  },
  {
   "cell_type": "code",
   "execution_count": 93,
   "id": "a966e2a1-62ec-4daf-b015-040041b028ee",
   "metadata": {},
   "outputs": [
    {
     "data": {
      "text/plain": [
       "array([['.-']], dtype=object)"
      ]
     },
     "execution_count": 93,
     "metadata": {},
     "output_type": "execute_result"
    }
   ],
   "source": [
    "special_chars_region1 = winery[\"region_1\"].str.extractall(pattern3).drop_duplicates()\n",
    "special_chars_region1.values"
   ]
  },
  {
   "cell_type": "code",
   "execution_count": 94,
   "id": "0c560714-efc9-43ea-9093-d853dddf1cb9",
   "metadata": {},
   "outputs": [
    {
     "data": {
      "text/plain": [
       "array([['.-']], dtype=object)"
      ]
     },
     "execution_count": 94,
     "metadata": {},
     "output_type": "execute_result"
    }
   ],
   "source": [
    "special_chars_region1 = winery[\"region_1\"].str.extractall(pattern3).drop_duplicates()\n",
    "special_chars_region1.values"
   ]
  },
  {
   "cell_type": "code",
   "execution_count": null,
   "id": "70bdd574-a27a-4a09-85dc-6e4f0a9c81b1",
   "metadata": {},
   "outputs": [],
   "source": []
  },
  {
   "cell_type": "code",
   "execution_count": 95,
   "id": "657ee63c-3f79-4594-aaab-a1329f4cd5b8",
   "metadata": {},
   "outputs": [
    {
     "data": {
      "text/plain": [
       "array([], shape=(0, 1), dtype=object)"
      ]
     },
     "execution_count": 95,
     "metadata": {},
     "output_type": "execute_result"
    }
   ],
   "source": [
    "special_chars_region2 = winery[\"region_2\"].str.extractall(pattern3).drop_duplicates()\n",
    "special_chars_region2.values"
   ]
  },
  {
   "cell_type": "code",
   "execution_count": null,
   "id": "dee4f2e5-92e6-4db0-8d7b-e4193c922286",
   "metadata": {},
   "outputs": [],
   "source": []
  },
  {
   "cell_type": "code",
   "execution_count": 97,
   "id": "61478964-4594-4832-80a4-5bf0154b8cea",
   "metadata": {},
   "outputs": [
    {
     "data": {
      "text/plain": [
       "array([], shape=(0, 1), dtype=object)"
      ]
     },
     "execution_count": 97,
     "metadata": {},
     "output_type": "execute_result"
    }
   ],
   "source": [
    "special_chars_taster = winery[\"taster_name\"].str.extractall(pattern3).drop_duplicates()\n",
    "special_chars_taster.values"
   ]
  },
  {
   "cell_type": "code",
   "execution_count": null,
   "id": "a5ff476d-e5a4-4ac3-ba08-34e718854220",
   "metadata": {},
   "outputs": [],
   "source": []
  },
  {
   "cell_type": "code",
   "execution_count": 98,
   "id": "192caeac-c73c-4b39-8111-d82ccedd61d1",
   "metadata": {},
   "outputs": [
    {
     "data": {
      "text/plain": [
       "array([], shape=(0, 1), dtype=object)"
      ]
     },
     "execution_count": 98,
     "metadata": {},
     "output_type": "execute_result"
    }
   ],
   "source": [
    "special_chars_handle = winery[\"taster_twitter_handle\"].str.extractall(pattern3).drop_duplicates()\n",
    "special_chars_handle.values"
   ]
  },
  {
   "cell_type": "code",
   "execution_count": 99,
   "id": "7da84619-f6f0-435b-b6ab-8a394e5d4f44",
   "metadata": {},
   "outputs": [
    {
     "data": {
      "text/plain": [
       "array([['.-'],\n",
       "       ['[+]'],\n",
       "       ['%,'],\n",
       "       ['(\"'],\n",
       "       ['\")'],\n",
       "       ['*%#&@!'],\n",
       "       [\"!'\"],\n",
       "       ['(+)'],\n",
       "       ['%@#$!'],\n",
       "       ['%/']], dtype=object)"
      ]
     },
     "execution_count": 99,
     "metadata": {},
     "output_type": "execute_result"
    }
   ],
   "source": [
    "special_chars_title = winery[\"title\"].str.extractall(pattern3).drop_duplicates()\n",
    "special_chars_title.values"
   ]
  },
  {
   "cell_type": "code",
   "execution_count": 100,
   "id": "bd93f161-07ae-456a-9d39-0e562fd0954d",
   "metadata": {},
   "outputs": [],
   "source": [
    "for index,row in winery.iterrows():\n",
    "    # replace the non legitimate patterns with whitespace\n",
    "    txt = row[\"title\"]\n",
    "    winery.at[index,\"title\"] = re.sub(r\"((\\[\\+\\])|(\\(\\+\\))|(\\*%#&@!)|(%@#\\$!))+\", \" \",txt)"
   ]
  },
  {
   "cell_type": "code",
   "execution_count": 101,
   "id": "028984e3-31a6-4cbe-af0f-feb5f03bdb5f",
   "metadata": {},
   "outputs": [
    {
     "data": {
      "text/plain": [
       "array([['.-'],\n",
       "       ['%,'],\n",
       "       ['(\"'],\n",
       "       ['\")'],\n",
       "       [\"!'\"],\n",
       "       ['%/']], dtype=object)"
      ]
     },
     "execution_count": 101,
     "metadata": {},
     "output_type": "execute_result"
    }
   ],
   "source": [
    "special_chars_title = winery[\"title\"].str.extractall(pattern3).drop_duplicates()\n",
    "special_chars_title.values"
   ]
  },
  {
   "cell_type": "code",
   "execution_count": 102,
   "id": "2800ef3c-9252-4a9f-a11d-fb29a955c341",
   "metadata": {},
   "outputs": [
    {
     "data": {
      "text/plain": [
       "array([], shape=(0, 1), dtype=object)"
      ]
     },
     "execution_count": 102,
     "metadata": {},
     "output_type": "execute_result"
    }
   ],
   "source": [
    "special_chars_variety = winery[\"variety\"].str.extractall(pattern3).drop_duplicates()\n",
    "special_chars_variety.values"
   ]
  },
  {
   "cell_type": "code",
   "execution_count": 103,
   "id": "5cc88d69-20ab-4c36-b501-21394824f794",
   "metadata": {},
   "outputs": [
    {
     "data": {
      "text/plain": [
       "array([], shape=(0, 1), dtype=object)"
      ]
     },
     "execution_count": 103,
     "metadata": {},
     "output_type": "execute_result"
    }
   ],
   "source": [
    "special_chars_winery = winery[\"winery\"].str.extractall(pattern3).drop_duplicates()\n",
    "special_chars_winery.values"
   ]
  },
  {
   "cell_type": "code",
   "execution_count": null,
   "id": "c2bed859-541e-4cde-b0b2-29c9a671452c",
   "metadata": {},
   "outputs": [],
   "source": []
  },
  {
   "cell_type": "code",
   "execution_count": 88,
   "id": "9d7fba33-a6bc-4ff9-9527-0b4ac4be01c4",
   "metadata": {},
   "outputs": [
    {
     "data": {
      "text/plain": [
       "8996"
      ]
     },
     "execution_count": 88,
     "metadata": {},
     "output_type": "execute_result"
    }
   ],
   "source": [
    "# determine the count of null prices\n",
    "winery[\"price\"].isnull().sum()"
   ]
  },
  {
   "cell_type": "code",
   "execution_count": 89,
   "id": "64b0aabb-b57b-4cd0-8166-4acbc1507a4f",
   "metadata": {},
   "outputs": [
    {
     "data": {
      "text/plain": [
       "count    120975.000000\n",
       "mean         35.363389\n",
       "std          41.022218\n",
       "min           4.000000\n",
       "25%          17.000000\n",
       "50%          25.000000\n",
       "75%          42.000000\n",
       "max        3300.000000\n",
       "Name: price, dtype: float64"
      ]
     },
     "execution_count": 89,
     "metadata": {},
     "output_type": "execute_result"
    }
   ],
   "source": [
    "winery[\"price\"].describe()"
   ]
  },
  {
   "cell_type": "code",
   "execution_count": 90,
   "id": "12f30ee6-11ed-4487-af91-3c134989a4dc",
   "metadata": {},
   "outputs": [],
   "source": [
    "#fill null prices with mean price value\n",
    "mean_val = winery[\"price\"].mean()\n",
    "winery[\"price\"].fillna(value=mean_val,inplace=True)"
   ]
  },
  {
   "cell_type": "code",
   "execution_count": 91,
   "id": "db4fe36e-e55a-4d48-a680-2c7a5046fa00",
   "metadata": {},
   "outputs": [
    {
     "data": {
      "text/plain": [
       "0"
      ]
     },
     "execution_count": 91,
     "metadata": {},
     "output_type": "execute_result"
    }
   ],
   "source": [
    "# verify no null prices are found\n",
    "winery[\"price\"].isnull().sum()"
   ]
  },
  {
   "cell_type": "code",
   "execution_count": 92,
   "id": "c6b2b068-89d4-4b99-9bcf-4e007ac7a656",
   "metadata": {},
   "outputs": [
    {
     "name": "stdout",
     "output_type": "stream",
     "text": [
      "<class 'pandas.core.frame.DataFrame'>\n",
      "Index: 129971 entries, 0 to 129970\n",
      "Data columns (total 13 columns):\n",
      " #   Column                 Non-Null Count   Dtype  \n",
      "---  ------                 --------------   -----  \n",
      " 0   country                129971 non-null  object \n",
      " 1   description            129971 non-null  object \n",
      " 2   designation            129971 non-null  object \n",
      " 3   points                 129971 non-null  int64  \n",
      " 4   price                  129971 non-null  float64\n",
      " 5   province               129971 non-null  object \n",
      " 6   region_1               129971 non-null  object \n",
      " 7   region_2               50511 non-null   object \n",
      " 8   taster_name            103727 non-null  object \n",
      " 9   taster_twitter_handle  98758 non-null   object \n",
      " 10  title                  129971 non-null  object \n",
      " 11  variety                129971 non-null  object \n",
      " 12  winery                 129971 non-null  object \n",
      "dtypes: float64(1), int64(1), object(11)\n",
      "memory usage: 17.9+ MB\n"
     ]
    }
   ],
   "source": [
    "winery.info()"
   ]
  },
  {
   "cell_type": "code",
   "execution_count": 105,
   "id": "15b31dc1-3bf4-413e-9eb3-f75def72da40",
   "metadata": {},
   "outputs": [],
   "source": [
    "out_path = 'C:\\cs_513_datasets\\Winery-Kaggle\\winemag_step1_python.csv'\n",
    "winery.to_csv(out_path)"
   ]
  },
  {
   "cell_type": "code",
   "execution_count": null,
   "id": "5aec7f76-8533-4232-9135-12dc3c56dbb9",
   "metadata": {},
   "outputs": [],
   "source": []
  }
 ],
 "metadata": {
  "kernelspec": {
   "display_name": "Python 3 (ipykernel)",
   "language": "python",
   "name": "python3"
  },
  "language_info": {
   "codemirror_mode": {
    "name": "ipython",
    "version": 3
   },
   "file_extension": ".py",
   "mimetype": "text/x-python",
   "name": "python",
   "nbconvert_exporter": "python",
   "pygments_lexer": "ipython3",
   "version": "3.11.4"
  }
 },
 "nbformat": 4,
 "nbformat_minor": 5
}
